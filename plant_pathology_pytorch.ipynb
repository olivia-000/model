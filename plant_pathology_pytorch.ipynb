{
  "cells": [
    {
      "cell_type": "markdown",
      "id": "cd3ece2f",
      "metadata": {
        "id": "cd3ece2f"
      },
      "source": [
        "# Plant Pathology 2020 - FGVC7\n",
        "用 PyTorch 與預訓練模型進行植物病害影像分類\n",
        "\n"
      ]
    },
    {
      "cell_type": "markdown",
      "id": "2616c5e4",
      "metadata": {
        "id": "2616c5e4"
      },
      "source": [
        "## 1. 安裝與環境準備\n",
        "執行以下指令安裝 Kaggle CLI、timm（含多種影像預訓練模型）、albumentations（資料增強）、scikit-learn（評估指標）及其他套件。\n",
        "\n",
        "> **注意：** 若已在相容的 Conda / venv 環境中安裝對應版本，視情況略過或調整版本號。"
      ]
    },
    {
      "cell_type": "code",
      "execution_count": null,
      "id": "81aaee43",
      "metadata": {
        "id": "81aaee43"
      },
      "outputs": [],
      "source": [
        "!pip install -q kaggle timm albumentations==1.4.8 scikit-learn==1.6.1 torchmetrics --upgrade\n",
        "\n"
      ]
    },
    {
      "cell_type": "markdown",
      "id": "aa83b2b1",
      "metadata": {
        "id": "aa83b2b1"
      },
      "source": [
        "1.如果你已經手動下載資料，且只想跑 Notebook：\n",
        "pip install timm albumentations scikit-learn\n",
        "\n",
        "2.如果想留下預設版本鎖定以確保可重現：\n",
        "pip install timm==0.9.12 albumentations==1.4.8 scikit-learn==1.6.1 torchmetrics==1.3.2\n",
        "\n"
      ]
    },
    {
      "cell_type": "code",
      "execution_count": null,
      "id": "e70bd204",
      "metadata": {
        "id": "e70bd204",
        "outputId": "cd5857d5-868a-47b2-db43-5feaf9fc06d5"
      },
      "outputs": [
        {
          "name": "stdout",
          "output_type": "stream",
          "text": [
            "PyTorch: 2.5.1+cu121\n",
            "CUDA 可用？ True\n",
            "GPU: NVIDIA GeForce RTX 4070 SUPER\n"
          ]
        }
      ],
      "source": [
        "import torch, platform, os\n",
        "print(\"PyTorch:\", torch.__version__)\n",
        "print(\"CUDA 可用？\", torch.cuda.is_available())\n",
        "if torch.cuda.is_available():\n",
        "    print(\"GPU:\", torch.cuda.get_device_name(0))\n",
        "device = torch.device(\"cuda\" if torch.cuda.is_available() else \"cpu\")\n",
        "\n"
      ]
    },
    {
      "cell_type": "code",
      "execution_count": null,
      "id": "31bdc0fe",
      "metadata": {
        "id": "31bdc0fe"
      },
      "outputs": [],
      "source": [
        "import os, subprocess, zipfile, shutil, glob, pathlib, json, sys, warnings"
      ]
    },
    {
      "cell_type": "markdown",
      "id": "8c35d52a",
      "metadata": {
        "id": "8c35d52a"
      },
      "source": [
        "## 2. 下載資料集"
      ]
    },
    {
      "cell_type": "markdown",
      "id": "5448b4d3",
      "metadata": {
        "id": "5448b4d3"
      },
      "source": [
        "### 2.1 本地壓縮檔解壓縮\n",
        "若已將 `plant-pathology-2020-fgvc7.zip` 下載至 `./data/` 資料夾，以下程式將自動尋找並解壓縮"
      ]
    },
    {
      "cell_type": "code",
      "execution_count": null,
      "id": "d4a085d3",
      "metadata": {
        "id": "d4a085d3",
        "outputId": "a5066127-616a-4843-a964-09447ddce104"
      },
      "outputs": [
        {
          "name": "stdout",
          "output_type": "stream",
          "text": [
            "解壓縮 data\\plant-pathology-2020-fgvc7.zip ...\n",
            "解壓縮完成\n"
          ]
        }
      ],
      "source": [
        "import glob, zipfile, os, pathlib, shutil\n",
        "DATA_DIR = pathlib.Path('./data')\n",
        "DATA_DIR.mkdir(exist_ok=True)\n",
        "\n",
        "# 搜尋單一 zip（或多個）並解壓縮\n",
        "for z_path in DATA_DIR.glob('*.zip'):\n",
        "    print(f\"解壓縮 {z_path} ...\")\n",
        "    with zipfile.ZipFile(z_path, 'r') as zf:\n",
        "        zf.extractall(DATA_DIR)\n",
        "print(\"解壓縮完成\")\n"
      ]
    },
    {
      "cell_type": "markdown",
      "id": "cf0a9391",
      "metadata": {
        "id": "cf0a9391"
      },
      "source": [
        "## 3. 資料探索 (EDA)"
      ]
    },
    {
      "cell_type": "code",
      "execution_count": null,
      "id": "88ad4642",
      "metadata": {
        "id": "88ad4642",
        "outputId": "e61474fa-9d5b-40bb-e135-00cfb7b158c2"
      },
      "outputs": [
        {
          "name": "stdout",
          "output_type": "stream",
          "text": [
            "image_id              object\n",
            "healthy              float32\n",
            "multiple_diseases    float32\n",
            "rust                 float32\n",
            "scab                 float32\n",
            "dtype: object\n",
            "  image_id  healthy  multiple_diseases  rust  scab\n",
            "0  Train_0      0.0                0.0   0.0   1.0\n",
            "1  Train_1      0.0                1.0   0.0   0.0\n",
            "2  Train_2      1.0                0.0   0.0   0.0\n",
            "3  Train_3      0.0                0.0   1.0   0.0\n",
            "4  Train_4      1.0                0.0   0.0   0.0\n"
          ]
        },
        {
          "data": {
            "image/png": "[encoded data removed]",
            "text/plain": [
              "<Figure size 600x400 with 1 Axes>"
            ]
          },
          "metadata": {},
          "output_type": "display_data"
        }
      ],
      "source": [
        "import pandas as pd, matplotlib.pyplot as plt, seaborn as sns\n",
        "sns.set_style('whitegrid')\n",
        "\n",
        "train_df = pd.read_csv('./data/train.csv')\n",
        "# 定義標籤欄位的名稱\n",
        "label_cols = ['healthy', 'multiple_diseases', 'rust', 'scab']\n",
        "# 轉成 float32，保證不是 object\n",
        "train_df[label_cols] = train_df[label_cols].astype('float32')\n",
        "\n",
        "\n",
        "\n",
        "# 印出欄位型態和前 5 筆資料\n",
        "print(train_df.dtypes)\n",
        "print(train_df.head())\n",
        "\n",
        "# 查看每個類別的影像計數\n",
        "counts = train_df[label_cols].sum().sort_values(ascending=False)\n",
        "counts.plot(kind='bar', figsize=(6,4), title='Number of samples per category')\n",
        "plt.ylabel('Count')\n",
        "plt.show()\n"
      ]
    },
    {
      "cell_type": "markdown",
      "id": "58bbcec6",
      "metadata": {
        "id": "58bbcec6"
      },
      "source": [
        "## 4. 資料分割 (Train / Validation)\n",
        "使用 **StratifiedKFold** 以保持各類別比例。"
      ]
    },
    {
      "cell_type": "code",
      "execution_count": null,
      "id": "27ba9527",
      "metadata": {
        "id": "27ba9527"
      },
      "outputs": [],
      "source": [
        "from sklearn.model_selection import StratifiedKFold\n",
        "import numpy as np\n",
        "\n",
        "# 將多標籤轉為單欄 index 方便 StratifiedKFold\n",
        "y_single = train_df[label_cols].values.argmax(1)\n",
        "skf = StratifiedKFold(n_splits=5, shuffle=True, random_state=42)\n",
        "train_idx, val_idx = list(skf.split(train_df, y_single))[0]\n",
        "#取一份為驗證集 其他四份做訓練用  不做交叉驗證(訓練太久)(完整交叉會做 5 次訓練與驗證，每次驗證用不同一折，其餘 4 折用來訓練。)\n",
        "\n",
        "train_df['fold'] = -1\n",
        "train_df.loc[val_idx, 'fold'] = 0 #驗證集\n",
        "train_df.loc[train_idx, 'fold'] = 1\n",
        "\n",
        "train_df.to_csv('./data/train_folds.csv', index=False)\n"
      ]
    },
    {
      "cell_type": "markdown",
      "id": "e8264029",
      "metadata": {
        "id": "e8264029"
      },
      "source": [
        "## 5. Dataset 與資料增強\n",
        "- 訓練集：隨機翻轉、裁切、色彩抖動等\n",
        "- 驗證集：僅 Resize 與中心裁切"
      ]
    },
    {
      "cell_type": "code",
      "execution_count": null,
      "id": "02a62748",
      "metadata": {
        "id": "02a62748"
      },
      "outputs": [],
      "source": [
        "from torch.utils.data import Dataset, DataLoader\n",
        "from PIL import Image\n",
        "import albumentations as A\n",
        "from albumentations.pytorch import ToTensorV2\n",
        "import torch\n",
        "import numpy as np\n",
        "\n",
        "IMG_DIR = './data/images/'\n",
        "\n",
        "train_tfms = A.Compose([\n",
        "    A.RandomResizedCrop(size=(300, 300)),\n",
        "    A.HorizontalFlip(p=0.5),\n",
        "    A.VerticalFlip(p=0.5),\n",
        "    A.RandomBrightnessContrast(p=0.2),\n",
        "    A.ShiftScaleRotate(shift_limit=0.1, scale_limit=0.1, rotate_limit=20, p=0.5),\n",
        "    A.Normalize(),\n",
        "    ToTensorV2(),\n",
        "])\n",
        "\n",
        "valid_tfms = A.Compose([\n",
        "    A.Resize(512, 512),\n",
        "    A.CenterCrop(512, 512),\n",
        "    A.Normalize(),\n",
        "    ToTensorV2(),\n",
        "])\n",
        "\n",
        "class PlantDataset(Dataset):\n",
        "    def __init__(self, df, transforms, img_dir=IMG_DIR, mode='train'):\n",
        "        self.df = df\n",
        "        self.transforms = transforms\n",
        "        self.img_dir = img_dir\n",
        "        self.mode = mode # 儲存 mode\n",
        "        # 如果不是測試模式，才需要 label_cols\n",
        "        if self.mode != 'test':\n",
        "            self.label_cols = ['healthy', 'multiple_diseases', 'rust', 'scab']\n",
        "\n",
        "\n",
        "    def __len__(self):\n",
        "        return len(self.df)\n",
        "\n",
        "    def __getitem__(self, idx):\n",
        "        row = self.df.iloc[idx]\n",
        "        img_path = os.path.join(self.img_dir, f\"{row['image_id']}.jpg\")\n",
        "        image = np.array(Image.open(img_path).convert('RGB'))\n",
        "        if self.transforms:\n",
        "            image = self.transforms(image=image)['image']\n",
        "\n",
        "\n",
        "        # 根據 mode 決定回傳內容\n",
        "        if self.mode == 'test':\n",
        "            return image # 測試模式只回傳圖片\n",
        "        else:\n",
        "            # 訓練/驗證模式回傳圖片和標籤\n",
        "            label = torch.from_numpy(row[self.label_cols].values.astype(np.float32))\n",
        "            return image, label\n",
        "        \"\"\" label_np = row[label_cols].values.astype(np.float32)  # ← 確定是 float\n",
        "        label = torch.from_numpy(row[label_cols].values.astype(np.float32))\n",
        "        return image, label \"\"\"\n"
      ]
    },
    {
      "cell_type": "markdown",
      "id": "916f75ac",
      "metadata": {
        "id": "916f75ac"
      },
      "source": [
        "## 6. 模型 (EfficientNet-B3 預訓練)\n",
        "使用 `timm` 匯入預訓練權重，將最後一層更換為 4-輸出 Sigmoid。"
      ]
    },
    {
      "cell_type": "code",
      "execution_count": null,
      "id": "2be037c5",
      "metadata": {
        "id": "2be037c5"
      },
      "outputs": [],
      "source": [
        "import timm, torch.nn as nn, torch\n",
        "\n",
        "def get_model():\n",
        "    model = timm.create_model('efficientnet_b3a', pretrained=True)\n",
        "    n_features = model.classifier.in_features\n",
        "    model.classifier = nn.Sequential(\n",
        "        nn.Linear(in_features=n_features, out_features=4),\n",
        "        nn.Sigmoid()  # 多標籤需要 Sigmoid\n",
        "    )\n",
        "    return model\n"
      ]
    },
    {
      "cell_type": "markdown",
      "id": "755c3859",
      "metadata": {
        "id": "755c3859"
      },
      "source": [
        "## 7. 訓練設定"
      ]
    },
    {
      "cell_type": "code",
      "execution_count": null,
      "id": "7eb59893",
      "metadata": {
        "id": "7eb59893",
        "outputId": "008521b5-02a5-4bbc-f068-8dee24a5d69c"
      },
      "outputs": [
        {
          "name": "stderr",
          "output_type": "stream",
          "text": [
            "c:\\Users\\alex2\\anaconda3\\envs\\pytorch-newenv\\lib\\site-packages\\timm\\models\\_factory.py:126: UserWarning: Mapping deprecated model name efficientnet_b3a to current efficientnet_b3.\n",
            "  model = create_fn(\n"
          ]
        }
      ],
      "source": [
        "device = torch.device('cuda' if torch.cuda.is_available() else 'cpu')\n",
        "model = get_model().to(device)\n",
        "\n",
        "torch.backends.cudnn.benchmark = True # cuDNN 選最快算法\n",
        "torch.set_float32_matmul_precision('high') # Ada\n",
        "\n",
        "\n",
        "train_dataset = PlantDataset(train_df[train_df['fold']==1], train_tfms)\n",
        "val_dataset   = PlantDataset(train_df[train_df['fold']==0], valid_tfms)\n",
        "\n",
        "train_loader = DataLoader(train_dataset, batch_size=8, shuffle=True, num_workers=0, pin_memory=True)\n",
        "val_loader   = DataLoader(val_dataset, batch_size=8, shuffle=False, num_workers=0)\n",
        "#num_workers=...   看情況改多線程\n",
        "\n",
        "criterion = nn.BCELoss()\n",
        "optimizer = torch.optim.AdamW(model.parameters(), lr=3e-4, weight_decay=1e-4)\n",
        "scheduler = torch.optim.lr_scheduler.CosineAnnealingLR(optimizer, T_max=10)\n",
        "\n",
        "from pathlib import Path\n",
        "OUTPUT_DIR = Path('./outputs')\n",
        "OUTPUT_DIR.mkdir(exist_ok=True)  # 若 outputs/ 不在，就自動建立\n",
        "\n"
      ]
    },
    {
      "cell_type": "code",
      "execution_count": null,
      "id": "5c398ee3",
      "metadata": {
        "id": "5c398ee3"
      },
      "outputs": [],
      "source": [
        "from sklearn.metrics import roc_auc_score\n",
        "import tqdm, math\n",
        "\n",
        "def train_epoch(model, loader, criterion, optimizer, device):\n",
        "    model.train()\n",
        "    total_loss = 0\n",
        "    bar = tqdm.tqdm(loader, desc='Train')\n",
        "    for imgs, labels in bar:\n",
        "        imgs, labels = imgs.to(device), labels.to(device)\n",
        "        optimizer.zero_grad()\n",
        "        outputs = model(imgs)\n",
        "        loss = criterion(outputs, labels)\n",
        "        loss.backward()\n",
        "        optimizer.step()\n",
        "        total_loss += loss.item() * imgs.size(0)\n",
        "        bar.set_postfix(loss=loss.item())\n",
        "    return total_loss / len(loader.dataset)\n",
        "\n",
        "\n",
        "def validate(model, loader, criterion, device):\n",
        "    model.eval()\n",
        "    total_loss = 0\n",
        "    final_outputs, final_targets = [], []\n",
        "    with torch.no_grad():\n",
        "        for imgs, labels in loader:\n",
        "            imgs, labels = imgs.to(device), labels.to(device)\n",
        "            outputs = model(imgs)\n",
        "            loss = criterion(outputs, labels)\n",
        "            total_loss += loss.item() * imgs.size(0)\n",
        "            final_outputs.append(outputs.sigmoid().cpu())\n",
        "            final_targets.append(labels.cpu())\n",
        "    final_outputs = torch.cat(final_outputs).numpy()\n",
        "    final_targets = torch.cat(final_targets).numpy()\n",
        "    auc = roc_auc_score(final_targets, final_outputs, average='macro')\n",
        "    return total_loss / len(loader.dataset), auc\n"
      ]
    },
    {
      "cell_type": "markdown",
      "id": "f52cb2da",
      "metadata": {
        "id": "f52cb2da"
      },
      "source": [
        "### 訓練迴圈"
      ]
    },
    {
      "cell_type": "code",
      "execution_count": null,
      "id": "5b60a21c",
      "metadata": {
        "id": "5b60a21c",
        "outputId": "e2b86078-aa5e-4fe6-d3c5-0287bf4d57e0"
      },
      "outputs": [
        {
          "name": "stderr",
          "output_type": "stream",
          "text": [
            "Train: 100%|██████████| 182/182 [00:53<00:00,  3.38it/s, loss=0.17]  \n"
          ]
        },
        {
          "name": "stdout",
          "output_type": "stream",
          "text": [
            "Epoch 1/10 - Train Loss: 0.2897 | Val Loss: 0.1487 | Val AUC: 0.9658\n",
            "*** 新最佳模型 (AUC=0.9658) 已儲存 ***\n"
          ]
        },
        {
          "name": "stderr",
          "output_type": "stream",
          "text": [
            "Train: 100%|██████████| 182/182 [00:51<00:00,  3.53it/s, loss=0.495] \n"
          ]
        },
        {
          "name": "stdout",
          "output_type": "stream",
          "text": [
            "Epoch 2/10 - Train Loss: 0.1954 | Val Loss: 0.1111 | Val AUC: 0.9508\n"
          ]
        },
        {
          "name": "stderr",
          "output_type": "stream",
          "text": [
            "Train: 100%|██████████| 182/182 [00:50<00:00,  3.60it/s, loss=0.17]  \n"
          ]
        },
        {
          "name": "stdout",
          "output_type": "stream",
          "text": [
            "Epoch 3/10 - Train Loss: 0.1795 | Val Loss: 0.0983 | Val AUC: 0.9781\n",
            "*** 新最佳模型 (AUC=0.9781) 已儲存 ***\n"
          ]
        },
        {
          "name": "stderr",
          "output_type": "stream",
          "text": [
            "Train: 100%|██████████| 182/182 [00:48<00:00,  3.75it/s, loss=0.118] \n"
          ]
        },
        {
          "name": "stdout",
          "output_type": "stream",
          "text": [
            "Epoch 4/10 - Train Loss: 0.1639 | Val Loss: 0.1021 | Val AUC: 0.9668\n"
          ]
        },
        {
          "name": "stderr",
          "output_type": "stream",
          "text": [
            "Train: 100%|██████████| 182/182 [00:48<00:00,  3.77it/s, loss=0.0626]\n"
          ]
        },
        {
          "name": "stdout",
          "output_type": "stream",
          "text": [
            "Epoch 5/10 - Train Loss: 0.1444 | Val Loss: 0.0829 | Val AUC: 0.9734\n"
          ]
        },
        {
          "name": "stderr",
          "output_type": "stream",
          "text": [
            "Train: 100%|██████████| 182/182 [00:48<00:00,  3.74it/s, loss=0.0931]\n"
          ]
        },
        {
          "name": "stdout",
          "output_type": "stream",
          "text": [
            "Epoch 6/10 - Train Loss: 0.1297 | Val Loss: 0.0769 | Val AUC: 0.9784\n",
            "*** 新最佳模型 (AUC=0.9784) 已儲存 ***\n"
          ]
        },
        {
          "name": "stderr",
          "output_type": "stream",
          "text": [
            "Train: 100%|██████████| 182/182 [00:48<00:00,  3.75it/s, loss=0.182]  \n"
          ]
        },
        {
          "name": "stdout",
          "output_type": "stream",
          "text": [
            "Epoch 7/10 - Train Loss: 0.1030 | Val Loss: 0.0849 | Val AUC: 0.9701\n"
          ]
        },
        {
          "name": "stderr",
          "output_type": "stream",
          "text": [
            "Train: 100%|██████████| 182/182 [00:48<00:00,  3.75it/s, loss=0.118]  \n"
          ]
        },
        {
          "name": "stdout",
          "output_type": "stream",
          "text": [
            "Epoch 8/10 - Train Loss: 0.1011 | Val Loss: 0.0834 | Val AUC: 0.9763\n"
          ]
        },
        {
          "name": "stderr",
          "output_type": "stream",
          "text": [
            "Train: 100%|██████████| 182/182 [00:47<00:00,  3.80it/s, loss=0.422]  \n"
          ]
        },
        {
          "name": "stdout",
          "output_type": "stream",
          "text": [
            "Epoch 9/10 - Train Loss: 0.0946 | Val Loss: 0.0864 | Val AUC: 0.9718\n"
          ]
        },
        {
          "name": "stderr",
          "output_type": "stream",
          "text": [
            "Train: 100%|██████████| 182/182 [00:48<00:00,  3.72it/s, loss=0.0331] \n"
          ]
        },
        {
          "name": "stdout",
          "output_type": "stream",
          "text": [
            "Epoch 10/10 - Train Loss: 0.0906 | Val Loss: 0.0765 | Val AUC: 0.9780\n"
          ]
        }
      ],
      "source": [
        "EPOCHS = 10\n",
        "best_auc = 0\n",
        "\n",
        "for epoch in range(EPOCHS):\n",
        "    train_loss = train_epoch(model, train_loader, criterion, optimizer, device)\n",
        "\n",
        "\n",
        "    val_loss, val_auc = validate(model, val_loader, criterion, device)\n",
        "    scheduler.step()\n",
        "    print(f\"Epoch {epoch+1}/{EPOCHS} - Train Loss: {train_loss:.4f} | Val Loss: {val_loss:.4f} | Val AUC: {val_auc:.4f}\")\n",
        "    if val_auc > best_auc:\n",
        "        best_auc = val_auc\n",
        "        torch.save(model.state_dict(), OUTPUT_DIR / 'plant_best.pth')\n",
        "        print(f\"*** 新最佳模型 (AUC={best_auc:.4f}) 已儲存 ***\")\n"
      ]
    },
    {
      "cell_type": "markdown",
      "id": "8dbc59ed",
      "metadata": {
        "id": "8dbc59ed"
      },
      "source": [
        "## 8. 生成 Kaggle 提交檔"
      ]
    },
    {
      "cell_type": "code",
      "execution_count": null,
      "id": "10e11dd8",
      "metadata": {
        "id": "10e11dd8",
        "outputId": "c97a4550-7077-452c-ff97-19ad90564709"
      },
      "outputs": [
        {
          "name": "stderr",
          "output_type": "stream",
          "text": [
            "Inference: 100%|██████████| 228/228 [01:00<00:00,  3.78it/s]"
          ]
        },
        {
          "name": "stdout",
          "output_type": "stream",
          "text": [
            "提交檔已輸出: submission.csv\n"
          ]
        },
        {
          "name": "stderr",
          "output_type": "stream",
          "text": [
            "\n"
          ]
        }
      ],
      "source": [
        "# 建立測試 DataLoader\n",
        "test_df = pd.read_csv('./data/test.csv')\n",
        "# 傳入 mode='test'\n",
        "test_dataset = PlantDataset(test_df, valid_tfms, mode='test')\n",
        "test_loader  = DataLoader(test_dataset, batch_size=8, shuffle=False, num_workers=0)\n",
        "\n",
        "# 載入最佳模型\n",
        "# 注意：torch.load 預設使用 pickle，載入不受信任的檔案可能不安全。\n",
        "# 建議加上 weights_only=True，除非你確定檔案來源可靠。\n",
        "# model.load_state_dict(torch.load('./outputs/plant_best.pth', map_location=device, weights_only=True))\n",
        "# 如果上面這行報錯，表示模型儲存了非權重的內容，你需要確認安全性或改回原本的載入方式。\n",
        "try:\n",
        "    # 優先嘗試 weights_only=True\n",
        "    model.load_state_dict(torch.load('./outputs/plant_best.pth', map_location=device, weights_only=True))\n",
        "except:\n",
        "    # 如果失敗，印出警告並使用舊方法 (注意潛在風險)\n",
        "    print(\"Warning: Loading model state dict without weights_only=True. Ensure the file source is trusted.\")\n",
        "    model.load_state_dict(torch.load('./outputs/plant_best.pth', map_location=device))\n",
        "\n",
        "model.eval()\n",
        "\n",
        "all_preds = []\n",
        "with torch.no_grad():\n",
        "    # 修改迴圈，因為 test_loader 現在只回傳 imgs\n",
        "    for imgs in tqdm.tqdm(test_loader, desc='Inference'):\n",
        "        imgs = imgs.to(device)\n",
        "        preds = model(imgs).sigmoid().cpu().numpy() # 模型的輸出層應該已經是 Sigmoid\n",
        "        all_preds.append(preds)\n",
        "all_preds = np.concatenate(all_preds)\n",
        "\n",
        "# 取得 label_cols (確保變數存在)\n",
        "label_cols = ['healthy', 'multiple_diseases', 'rust', 'scab']\n",
        "\n",
        "sub = pd.DataFrame(all_preds, columns=label_cols)\n",
        "sub.insert(0, 'image_id', test_df['image_id'])\n",
        "sub.to_csv(OUTPUT_DIR / 'submission.csv', index=False)\n",
        "print('提交檔已輸出: submission.csv')"
      ]
    },
    {
      "cell_type": "markdown",
      "id": "ab4b9d1a",
      "metadata": {
        "id": "ab4b9d1a"
      },
      "source": [
        "## 8.1 驗證集 ROC Curve 與 F1 分數"
      ]
    },
    {
      "cell_type": "code",
      "execution_count": null,
      "id": "225ac7b8",
      "metadata": {
        "id": "225ac7b8",
        "outputId": "cb0061f6-981f-446b-b4a2-4f4a0bcfc0b3"
      },
      "outputs": [
        {
          "name": "stdout",
          "output_type": "stream",
          "text": [
            "Macro F1-score: 0.3840\n",
            "\n",
            "分類報告:\n",
            "                    precision    recall  f1-score   support\n",
            "\n",
            "          healthy       0.28      1.00      0.44       103\n",
            "multiple_diseases       0.05      1.00      0.09        18\n",
            "             rust       0.34      1.00      0.51       125\n",
            "             scab       0.33      1.00      0.49       119\n",
            "\n",
            "        micro avg       0.25      1.00      0.40       365\n",
            "        macro avg       0.25      1.00      0.38       365\n",
            "     weighted avg       0.31      1.00      0.46       365\n",
            "      samples avg       0.25      1.00      0.40       365\n",
            "\n"
          ]
        },
        {
          "data": {
            "image/png": "[encoded data removed]",
            "text/plain": [
              "<Figure size 600x600 with 1 Axes>"
            ]
          },
          "metadata": {},
          "output_type": "display_data"
        },
        {
          "data": {
            "image/png": "[encoded data removed]",
            "text/plain": [
              "<Figure size 600x400 with 1 Axes>"
            ]
          },
          "metadata": {},
          "output_type": "display_data"
        }
      ],
      "source": [
        "from sklearn.metrics import roc_curve, auc, f1_score, classification_report\n",
        "import matplotlib.pyplot as plt\n",
        "import numpy as np\n",
        "\n",
        "# 重新計算驗證集預測\n",
        "model.eval()\n",
        "all_preds, all_labels = [], []\n",
        "with torch.no_grad():\n",
        "    for imgs, labels in val_loader:\n",
        "        imgs = imgs.to(device)\n",
        "        outputs = model(imgs).sigmoid().cpu().numpy()\n",
        "        all_preds.append(outputs)\n",
        "        all_labels.append(labels.numpy())\n",
        "all_preds = np.concatenate(all_preds)\n",
        "all_labels = np.concatenate(all_labels)\n",
        "\n",
        "# F1 score\n",
        "preds_bin = (all_preds >= 0.5).astype(int)\n",
        "macro_f1 = f1_score(all_labels, preds_bin, average='macro')\n",
        "print(f\"Macro F1-score: {macro_f1:.4f}\")\n",
        "print(\"\\n分類報告:\\n\", classification_report(all_labels, preds_bin, target_names=label_cols))\n",
        "\n",
        "# ROC curve\n",
        "plt.figure(figsize=(6,6))\n",
        "for i, lbl in enumerate(label_cols):\n",
        "    fpr, tpr, _ = roc_curve(all_labels[:, i], all_preds[:, i])\n",
        "    roc_auc = auc(fpr, tpr)\n",
        "    plt.plot(fpr, tpr, label=f\"{lbl} (AUC={roc_auc:.2f})\")\n",
        "plt.plot([0,1], [0,1], 'k--')\n",
        "plt.xlabel(\"False Positive Rate\")\n",
        "plt.ylabel(\"True Positive Rate\")\n",
        "plt.title(\"Validation ROC Curves\")\n",
        "plt.legend()\n",
        "plt.show()\n",
        "\n",
        "# F1 per class bar chart\n",
        "f1_per_class = f1_score(all_labels, preds_bin, average=None)\n",
        "plt.figure(figsize=(6,4))\n",
        "plt.bar(label_cols, f1_per_class)\n",
        "plt.ylim(0,1.0)\n",
        "plt.ylabel(\"F1 score\")\n",
        "plt.title(\"F1-score per class\")\n",
        "plt.show()\n"
      ]
    },
    {
      "cell_type": "markdown",
      "id": "d8db97c4",
      "metadata": {
        "id": "d8db97c4"
      },
      "source": [
        "## 9. 結論\n",
        "- 使用 EfficientNet-B3 預訓練模型可快速取得不錯的 AUC 表現。\n",
        "- 可嘗試更深或更輕量的網路 (e.g. EfficientNetV2, ConvNext) 比較效能。\n",
        "- 調整資料增強策略、batch size、影像輸入尺寸等，也可能提升結果。\n",
        "- 若多標籤不平衡，可考慮 focal loss、class-balanced loss 或過取樣 (oversampling) 方法。\n"
      ]
    }
  ],
  "metadata": {
    "kernelspec": {
      "display_name": "pytorch-newenv",
      "language": "python",
      "name": "python3"
    },
    "language_info": {
      "codemirror_mode": {
        "name": "ipython",
        "version": 3
      },
      "file_extension": ".py",
      "mimetype": "text/x-python",
      "name": "python",
      "nbconvert_exporter": "python",
      "pygments_lexer": "ipython3",
      "version": "3.10.16"
    },
    "colab": {
      "provenance": []
    }
  },
  "nbformat": 4,
  "nbformat_minor": 5
}